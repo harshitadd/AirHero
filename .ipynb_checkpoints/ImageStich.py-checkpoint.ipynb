{
 "cells": [
  {
   "cell_type": "code",
   "execution_count": 1,
   "metadata": {},
   "outputs": [],
   "source": [
    "# import the necessary packages\n",
    "from imutils import paths\n",
    "import numpy as np\n",
    "import argparse\n",
    "import imutils\n",
    "import cv2\n",
    "import matplotlib.pyplot as plt\n"
   ]
  },
  {
   "cell_type": "code",
   "execution_count": 2,
   "metadata": {},
   "outputs": [],
   "source": [
    "p1 = '/home/harshita/Downloads/1.jpeg'\n",
    "im1 = cv2.imread(p1)\n",
    "p2 = '/home/harshita/Downloads/2.jpeg'\n",
    "im2 = cv2.imread(p2)\n",
    "p3 = '/home/harshita/Downloads/3.jpeg'\n",
    "im3 = cv2.imread(p3)"
   ]
  },
  {
   "cell_type": "code",
   "execution_count": 3,
   "metadata": {},
   "outputs": [],
   "source": [
    "images = []\n",
    "images.append(im1)\n",
    "images.append(im2)\n",
    "images.append(im3)"
   ]
  },
  {
   "cell_type": "code",
   "execution_count": 4,
   "metadata": {},
   "outputs": [
    {
     "name": "stdout",
     "output_type": "stream",
     "text": [
      "[INFO] stitching images...\n"
     ]
    }
   ],
   "source": [
    "print(\"[INFO] stitching images...\")\n",
    "stitcher = cv2.createStitcher() if imutils.is_cv3() else cv2.Stitcher_create()\n",
    "(status, stitched) = stitcher.stitch(images)\n"
   ]
  },
  {
   "cell_type": "code",
   "execution_count": 5,
   "metadata": {},
   "outputs": [
    {
     "name": "stdout",
     "output_type": "stream",
     "text": [
      "0\n"
     ]
    }
   ],
   "source": [
    "print(status)"
   ]
  },
  {
   "cell_type": "code",
   "execution_count": null,
   "metadata": {},
   "outputs": [],
   "source": [
    "# if the status is '0', then OpenCV successfully performed image\n",
    "# stitching\n",
    "if status == 0:\n",
    "    # write the output stitched image to disk \n",
    "    cv2.imwrite('/home/harshita/Downloads/stiched.jpeg', stitched)\n",
    "    # display the output stitched image to our screen\n",
    "    cv2.imshow(\"Stitched\", stitched)\n",
    "    cv2.waitKey(0)\n",
    " \n",
    "# otherwise the stitching failed, likely due to not enough keypoints)\n",
    "# being detected\n",
    "else:\n",
    "    print(\"[INFO] image stitching failed ({})\".format(status))"
   ]
  },
  {
   "cell_type": "code",
   "execution_count": null,
   "metadata": {},
   "outputs": [],
   "source": []
  },
  {
   "cell_type": "code",
   "execution_count": null,
   "metadata": {},
   "outputs": [],
   "source": []
  },
  {
   "cell_type": "code",
   "execution_count": null,
   "metadata": {},
   "outputs": [],
   "source": []
  }
 ],
 "metadata": {
  "kernelspec": {
   "display_name": "Python 3",
   "language": "python",
   "name": "python3"
  },
  "language_info": {
   "codemirror_mode": {
    "name": "ipython",
    "version": 3
   },
   "file_extension": ".py",
   "mimetype": "text/x-python",
   "name": "python",
   "nbconvert_exporter": "python",
   "pygments_lexer": "ipython3",
   "version": "3.6.5"
  }
 },
 "nbformat": 4,
 "nbformat_minor": 2
}
